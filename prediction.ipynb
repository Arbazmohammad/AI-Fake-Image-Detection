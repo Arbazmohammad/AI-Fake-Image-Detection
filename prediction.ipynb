{
 "cells": [
  {
   "cell_type": "code",
   "execution_count": null,
   "id": "initial_id",
   "metadata": {
    "collapsed": true,
    "is_executing": true,
    "ExecuteTime": {
     "start_time": "2024-05-01T02:21:40.985496800Z"
    }
   },
   "outputs": [],
   "source": [
    "from tensorflow.keras.models import load_model\n",
    "import numpy as np\n",
    "import cv2\n",
    "import tensorflow as tf\n",
    "\n",
    "IMAGE_SIZE = 128 \n",
    "\n",
    "def predict_new_image(image_path, model):\n",
    "    img = cv2.imread(image_path)\n",
    "    img = img.astype('float32') / 255.0\n",
    "    img_batch = np.expand_dims(img, axis=0)\n",
    "    predictions = model.predict(img_batch)\n",
    "    return predictions \n",
    "\n",
    "model = tf.keras.models.load_model('D:/DeepFakeImageDetection/models/model4.keras')\n",
    "new_image_path = 'D:/DeepFakeImageDetection/Celeb-DF-v2/images/val/real/real_185.png'\n",
    "#new_image_path = 'D:/DeepFakeImageDetection/Celeb-DF-v2/images/val/real/real_183.png'\n",
    "#new_image_path = 'D:/DeepFakeImageDetection/Celeb-DF-v2/images/val/fake/fake_202.png'\n",
    "#new_image_path = 'D:/DeepFakeImageDetection/Celeb-DF-v2/images/val/fake/fake_274.png'\n",
    "#new_image_path = 'D:/DeepFakeImageDetection/Celeb-DF-v2/images/val/fake/fake_286.png'\n",
    "prediction = predict_new_image(new_image_path, model)\n",
    "if np.argmax(prediction) == 0:\n",
    "    print('Prediction: Real')\n",
    "else:\n",
    "    print('Prediction: Fake')"
   ]
  },
  {
   "cell_type": "code",
   "outputs": [],
   "source": [],
   "metadata": {
    "collapsed": false
   },
   "id": "c7625bdea533300b"
  }
 ],
 "metadata": {
  "kernelspec": {
   "display_name": "Python 3",
   "language": "python",
   "name": "python3"
  },
  "language_info": {
   "codemirror_mode": {
    "name": "ipython",
    "version": 2
   },
   "file_extension": ".py",
   "mimetype": "text/x-python",
   "name": "python",
   "nbconvert_exporter": "python",
   "pygments_lexer": "ipython2",
   "version": "2.7.6"
  }
 },
 "nbformat": 4,
 "nbformat_minor": 5
}
