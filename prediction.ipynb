{
 "cells": [
  {
   "cell_type": "code",
   "execution_count": null,
   "id": "initial_id",
   "metadata": {
    "collapsed": true,
    "is_executing": true,
    "ExecuteTime": {
     "start_time": "2024-05-01T02:21:40.985496800Z"
    }
   },
   "outputs": [],
   "source": [
    "from tensorflow.keras.models import load_model\n",
    "import numpy as np\n",
    "import cv2\n",
    "import tensorflow as tf\n",
    "\n",
    "IMAGE_SIZE = 128  # Target size for image resizing\n",
    "\n",
    "\n",
    "def predict_new_image(image_path, model):\n",
    "    \"\"\"Process the image and predict using the loaded model.\"\"\"\n",
    "    img = cv2.imread(image_path)\n",
    "    img = img.astype('float32') / 255.0\n",
    "    img_batch = np.expand_dims(img, axis=0)  # Shape (1, 128, 128, 3)\n",
    "    predictions = model.predict(img_batch)\n",
    "    return predictions  # Return raw prediction probabilities\n",
    "\n",
    "# Load the trained model\n",
    "model = tf.keras.models.load_model('D:/DeepFakeImageDetection/models/model4.keras')\n",
    "new_image_path = 'D:/DeepFakeImageDetection/Celeb-DF-v2/images/val/real/real_185.png'\n",
    "\n",
    "prediction = predict_new_image(new_image_path, model)\n",
    "if np.argmax(prediction) == 0:\n",
    "    print('Prediction: Real')\n",
    "else:\n",
    "    print('Prediction: Fake')"
   ]
  },
  {
   "cell_type": "code",
   "outputs": [
    {
     "name": "stdout",
     "output_type": "stream",
     "text": [
      "WARNING:tensorflow:5 out of the last 5 calls to <function TensorFlowTrainer.make_predict_function.<locals>.one_step_on_data_distributed at 0x000001A17227BF60> triggered tf.function retracing. Tracing is expensive and the excessive number of tracings could be due to (1) creating @tf.function repeatedly in a loop, (2) passing tensors with different shapes, (3) passing Python objects instead of tensors. For (1), please define your @tf.function outside of the loop. For (2), @tf.function has reduce_retracing=True option that can avoid unnecessary retracing. For (3), please refer to https://www.tensorflow.org/guide/function#controlling_retracing and https://www.tensorflow.org/api_docs/python/tf/function for  more details.\n",
      "\u001B[1m1/1\u001B[0m \u001B[32m━━━━━━━━━━━━━━━━━━━━\u001B[0m\u001B[37m\u001B[0m \u001B[1m54s\u001B[0m 54s/step\n",
      "Prediction: Fake\n"
     ]
    }
   ],
   "source": [
    "# Specify the path to a new image\n",
    "\n",
    "#new_image_path = 'D:/DeepFakeImageDetection/Celeb-DF-v2/images/val/real/real_183.png'\n",
    "#new_image_path = 'D:/DeepFakeImageDetection/Celeb-DF-v2/images/val/fake/fake_202.png'\n",
    "#new_image_path = 'D:/DeepFakeImageDetection/Celeb-DF-v2/images/val/fake/fake_274.png'\n",
    "#new_image_path = 'D:/DeepFakeImageDetection/Celeb-DF-v2/images/val/fake/fake_286.png'\n",
    "\n",
    "# Predict the new image\n"
   ],
   "metadata": {
    "collapsed": false,
    "ExecuteTime": {
     "end_time": "2024-05-01T01:55:36.504197400Z",
     "start_time": "2024-05-01T01:54:11.171409300Z"
    }
   },
   "id": "71c1c18f494a2f6b",
   "execution_count": 7
  },
  {
   "cell_type": "code",
   "outputs": [],
   "source": [],
   "metadata": {
    "collapsed": false
   },
   "id": "c7625bdea533300b"
  }
 ],
 "metadata": {
  "kernelspec": {
   "display_name": "Python 3",
   "language": "python",
   "name": "python3"
  },
  "language_info": {
   "codemirror_mode": {
    "name": "ipython",
    "version": 2
   },
   "file_extension": ".py",
   "mimetype": "text/x-python",
   "name": "python",
   "nbconvert_exporter": "python",
   "pygments_lexer": "ipython2",
   "version": "2.7.6"
  }
 },
 "nbformat": 4,
 "nbformat_minor": 5
}
