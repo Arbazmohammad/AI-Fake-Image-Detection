{
 "cells": [
  {
   "cell_type": "code",
   "execution_count": 7,
   "id": "initial_id",
   "metadata": {
    "ExecuteTime": {
     "end_time": "2024-04-21T08:02:18.455325800Z",
     "start_time": "2024-04-21T08:02:15.865542200Z"
    },
    "collapsed": true,
    "jupyter": {
     "outputs_hidden": true
    }
   },
   "outputs": [
    {
     "name": "stderr",
     "output_type": "stream",
     "text": [
      "WARNING:absl:Compiled the loaded model, but the compiled metrics have yet to be built. `model.compile_metrics` will be empty until you train or evaluate the model.\n"
     ]
    },
    {
     "name": "stdout",
     "output_type": "stream",
     "text": [
      "\u001b[1m1/1\u001b[0m \u001b[32m━━━━━━━━━━━━━━━━━━━━\u001b[0m\u001b[37m\u001b[0m \u001b[1m1s\u001b[0m 1s/step\n",
      "The image is predicted as: fake\n"
     ]
    }
   ],
   "source": [
    "from tensorflow.keras.models import load_model\n",
    "import numpy as np\n",
    "import cv2\n",
    "\n",
    "IMAGE_SIZE = 224\n",
    "def preprocess_image(image_path):\n",
    "    img = cv2.imread(image_path)\n",
    "    img = cv2.resize(img, (IMAGE_SIZE, IMAGE_SIZE))\n",
    "    img = img.astype('float32') / 255.0\n",
    "    return img\n",
    "\n",
    "def predict_new_image(image_path, model):\n",
    "    img = preprocess_image(image_path)\n",
    "    img_batch = np.expand_dims(img, axis=0)\n",
    "    predictions = model.predict(img_batch)\n",
    "    predicted_class = np.argmax(predictions, axis=1)\n",
    "    return 'real' if predicted_class[0] == 1 else 'fake'\n",
    "\n",
    "model = load_model('real_fake_resnextmodel.h5')\n",
    "new_image_path = 'C:/Users/sushe/Documents/BDA_Fall_2023/BDA_Fall_2023/Sem_2/BDA_602/Deep_Fake_Video_Detection/Celeb-DF-v2/validation/id3_0009.jpg'\n",
    "prediction = predict_new_image(new_image_path, model)\n",
    "print(f\"The image is predicted as: {prediction}\")\n"
   ]
  },
  {
   "cell_type": "code",
   "execution_count": null,
   "id": "71c1c18f494a2f6b",
   "metadata": {},
   "outputs": [],
   "source": []
  }
 ],
 "metadata": {
  "kernelspec": {
   "display_name": "Python 3 (ipykernel)",
   "language": "python",
   "name": "python3"
  },
  "language_info": {
   "codemirror_mode": {
    "name": "ipython",
    "version": 3
   },
   "file_extension": ".py",
   "mimetype": "text/x-python",
   "name": "python",
   "nbconvert_exporter": "python",
   "pygments_lexer": "ipython3",
   "version": "3.11.7"
  }
 },
 "nbformat": 4,
 "nbformat_minor": 5
}
